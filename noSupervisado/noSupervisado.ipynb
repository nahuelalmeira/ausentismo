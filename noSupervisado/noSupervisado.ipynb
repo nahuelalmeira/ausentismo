{
 "cells": [
  {
   "cell_type": "markdown",
   "metadata": {},
   "source": [
    "### Práctico Aprendizaje no Supervisado\n",
    "\n",
    "Este último práctico tiene dos objetivos. El primero de ellos está vinculado a mejorar los modelos predictivos desarrollados en los prácticos anteriores empleando herramientas propias del aprendizaje no supervisado. El segundo consiste en emplear este tipo de herramientas para analizar los datos desde un punto de vista diferente al que vinimos haciendo hasta ahora. \n",
    "\n",
    "#### Problema 1\n",
    "\n",
    "- Embeddings: Utilicen Principal Component Analysis para reducir la dimensionalidad del dataset. Partan del dataset curado por ustedes, incluyendo tanto los features originales como aquellos que hayan calculado. Apliquen PCA y analicen la varianza explicada en función de la cantidad de dimensiones (grafiquen varianza vs dimensiones). Construyan un nuevo dataset utilizando sólo las dimensiones más explicativas (utilicen el criterio que crean conveniente para decidir el número de diemensiones). Discutan sobre la relación entre las direcciones halladas por el método de embedding y los features originales.\n",
    "Corran los modelos utilizados en el práctico anterior utilizando el nuevo dataset. Describan las similitudes y diferencias que encuentren en cuanto a poder predictivo, tiempo de cómputo, y underfitting/overfitting. Observación: los resultados de aplicar PCA dependen de si los datos están estandarizados o no. En la mayoría de los casos, es conveniente estandarizar los datos antes de hacer el embedding, pero hay excepciones. Teniendo esto en cuenta, decidan ustedes si realizan o no la estandarización. Pueden ver un poco más sobre estandarización [acá](https://scikit-learn.org/stable/auto_examples/preprocessing/plot_scaling_importance.html).\n",
    "\n",
    "\n",
    "- Clustering: Utilicen el algoritmo KMeans para detectar clusters en el conjunto de entrenamiento. Para determinar el número de clusters adecuado, empleen el método del codo y/o el método de siluetas (justifiquen su elección). Utilicen la pertenencia a los clusters como un nuevo feature e incorpórenlo al dataset. Pueden guiarse por [este](https://towardsdatascience.com/cluster-then-predict-for-classification-tasks-142fdfdc87d6) artículo. \n",
    "\n",
    "#### Problema 2\n",
    "\n",
    "- Realicen un análisis exploratorio de los datos empleando técnicas de clustering. Elijan un método de clustering y aplíquenlo a los datos. Observen los clusters detectados e intenten dar una interpretación de los mismos. ¿Existen características particulares de cada cluster? ¿Puede servir esta técnica para identificar ciertos \"perfiles\" de pacientes o de turnos? ¿Hay correlación entre los clusters y alguno de los feature? Repitan utilizando un segundo método y comparen los resultados.\n",
    "Este problema es más bien exploratorio. Puede ser que encuentren algo interesante, o puede ser que no encuentren nada relevante. Lo importante no es tanto los resultados alcanzados, como el familiarizarse con los distintos algoritmos de clustering."
   ]
  },
  {
   "cell_type": "code",
   "execution_count": null,
   "metadata": {},
   "outputs": [],
   "source": []
  }
 ],
 "metadata": {
  "kernelspec": {
   "display_name": "Python 3",
   "language": "python",
   "name": "python3"
  },
  "language_info": {
   "codemirror_mode": {
    "name": "ipython",
    "version": 3
   },
   "file_extension": ".py",
   "mimetype": "text/x-python",
   "name": "python",
   "nbconvert_exporter": "python",
   "pygments_lexer": "ipython3",
   "version": "3.8.3"
  }
 },
 "nbformat": 4,
 "nbformat_minor": 4
}
