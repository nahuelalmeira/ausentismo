{
 "cells": [
  {
   "cell_type": "markdown",
   "metadata": {},
   "source": [
    "# **Análisis y Curación de Datos**\n",
    "\n",
    "## **Actividades**\n",
    "\n",
    "En este práctico partiremos de datos un poco más crudos que los que usamos para el práctico de visualización, e incluiremos algunos más. La idea general es dejar preparado un único dataset que nos permita alimentar futuros modelos de aprendizaje automático. \n",
    "\n",
    "En primer lugar, partiremos de cuatro datasets diferentes. Tres de ellos corresponden a información obtenida de la institución médica. Cada uno de ellos consiste en un reporte distinto, que ustedes tendrán que unificar. El cuarto dataset contiene información meteorológica, que usaremos en forma complementaria a los datos clínicos. La idea es que una vez que hayan unificado los reportes, incluyan la información meteorológica pertinente en el dataset final.\n",
    "\n",
    "\n",
    "Es importante que cada decisión que tomen sobre los datos quede debidamente documentada.\n",
    "\n",
    "### **Chequeos puntuales por campo**\n",
    "\n",
    "- Campo **\"Estado del Turno\"**: Verán que en este campo aparecen categorías que no estaban presentes en el práctico de visualización. Las categorías \"Atendidendo\", \"Asignado\" y \"Receptado\" están asociadas a turnos que estuvieron teniendo lugar en el momento en que se realizó el reporte. Todas ellas deberán ser recategorizadas como \"Atendido\". Por otro lado, como nuestro objetivo final es estudiar el ausentismo en pacientes, el cual se define como \"Ausentes\" / (\"Ausentes\" + \"Atendidos\"), sólo nos quedaremos con los turnos que contengan alguna de estas dos categorías. \n",
    "\n",
    "- Campo **\"Edad\"**: Este campo contiene outliers. Deberán determinarlos y decidir qué hacer con ellos. Por ejemplo, una opción sería descartar los valores que no se encuentren en un determinado rango. Sea cual sea la decisión tomada, es importante que dejen clara cuál es su justificación para tomarla.\n",
    "\n",
    "- Campo **\"Sexo\"**: Este campo sólo debería contener las categorías \"M\" y \"F\". En caso de que exista otra categoría (por ejemplo, \"I\"), se la considera un error en la carga de datos, y se le dará el mismo tratamiento que si fuera un valor nulo.\n",
    "\n",
    "- Campo **\"Nombre del canal\"**: Las categorías \"Teléfono\" y \"Call Center\" deben ser unificadas, ya que representan lo mismo. La categoría \"No definido\" debe tratarse de la misma manera que los valores nulos (noten que este campo en particular contiene muchos valores nulos).\n",
    "\n",
    "- Campo **\"Prestador\"**: Verificar si hay obras sociales o prepagas que aparezcan con distintos nombres, identificar si hay una categoría que represente a pacientes que no tiene obra social/prepaga, y si hay alguna categoría dudosa.\n",
    "\n",
    "- Campo **\"Fecha\"**: Verificar que las fechas pertenecen al rango temporal correspondiente (en este caso, años 2018 y 2019).\n",
    "\n",
    "- Campo **\"Prestación Asignada\"**: Como vimos en el práctico anterior, este campo tiene categorías con frecuencias muy heterogéneas. La categoría \"CONSULTA MEDICA\" es por lejos la más frecuente, seguida por \"Prestaciones múltiples\". Acá deberán evaluar si conviene modificar el campo. Por ejemplo, mantener las categorías más frecuentes y recategorizar las demás como \"Otras\". En cualquier caso, justifiquen la decisión tomada. \n",
    "\n",
    "- Campo **\"Servicio\"**: Identificar los registros correspondientes a consultas de guardia y descartarlos. Explicitar cuál fue el criterio empleado para identificar estos registros.\n",
    "\n",
    "### **Creación de campos nuevos**\n",
    "\n",
    "Deberán incorporar al dataset al menos un campo nuevo, que crean relevante a la hora de abordar la problemática de la mentoría. Por ejemplo, día de la semana que corresponde al turno, si el paciente es consumidor final o cuenta con obra social/prepaga, etc."
   ]
  },
  {
   "cell_type": "code",
   "execution_count": null,
   "metadata": {},
   "outputs": [],
   "source": []
  },
  {
   "cell_type": "code",
   "execution_count": null,
   "metadata": {},
   "outputs": [],
   "source": []
  }
 ],
 "metadata": {
  "kernelspec": {
   "display_name": "Python [conda env:ausentismo] *",
   "language": "python",
   "name": "conda-env-ausentismo-py"
  },
  "language_info": {
   "codemirror_mode": {
    "name": "ipython",
    "version": 3
   },
   "file_extension": ".py",
   "mimetype": "text/x-python",
   "name": "python",
   "nbconvert_exporter": "python",
   "pygments_lexer": "ipython3",
   "version": "3.8.2"
  }
 },
 "nbformat": 4,
 "nbformat_minor": 4
}
