{
 "cells": [
  {
   "cell_type": "code",
   "execution_count": 3,
   "metadata": {},
   "outputs": [],
   "source": [
    "import pandas as pd"
   ]
  },
  {
   "cell_type": "markdown",
   "metadata": {},
   "source": [
    "Creamos dos datasets con información sobre turnos. El primero tiene información sobre pacientes, mientras que el segundo indica si se trata de un sobreturno. La idea es unir estos dos datasets"
   ]
  },
  {
   "cell_type": "code",
   "execution_count": 4,
   "metadata": {},
   "outputs": [],
   "source": [
    "data1 = [\n",
    "    ['10:00', 'Medico 0', 'Consulta', 'Paciente 0', '50'],\n",
    "    ['10:30', 'Medico 1', 'Consulta', 'Paciente 1', '40'],\n",
    "    ['10:30', 'Medico 2', 'Práctica', 'Paciente 2', '20'],\n",
    "    ['11:00', 'Medico 1', 'Consulta', 'Paciente 3', '30']\n",
    "]\n",
    "\n",
    "data2 = [\n",
    "    ['10:30', 'Medico 1', 'No'],\n",
    "    ['10:30', 'Medico 2', 'Si'],\n",
    "    ['11:00', 'Medico 1', 'No'],\n",
    "    ['12:00', 'Medico 3', 'No'],\n",
    "]\n",
    "\n",
    "cols = ['Hora', 'Recurso', 'TipoDeTurno', 'Paciente', 'Edad']\n",
    "df1 = pd.DataFrame(data1, columns=cols)\n",
    "\n",
    "\n",
    "cols = ['Hora', 'Recurso', 'Sobreturno']\n",
    "df2 = pd.DataFrame(data2, columns=cols)"
   ]
  },
  {
   "cell_type": "code",
   "execution_count": 5,
   "metadata": {},
   "outputs": [
    {
     "data": {
      "text/html": [
       "<div>\n",
       "<style scoped>\n",
       "    .dataframe tbody tr th:only-of-type {\n",
       "        vertical-align: middle;\n",
       "    }\n",
       "\n",
       "    .dataframe tbody tr th {\n",
       "        vertical-align: top;\n",
       "    }\n",
       "\n",
       "    .dataframe thead th {\n",
       "        text-align: right;\n",
       "    }\n",
       "</style>\n",
       "<table border=\"1\" class=\"dataframe\">\n",
       "  <thead>\n",
       "    <tr style=\"text-align: right;\">\n",
       "      <th></th>\n",
       "      <th>Hora</th>\n",
       "      <th>Recurso</th>\n",
       "      <th>TipoDeTurno</th>\n",
       "      <th>Paciente</th>\n",
       "      <th>Edad</th>\n",
       "    </tr>\n",
       "  </thead>\n",
       "  <tbody>\n",
       "    <tr>\n",
       "      <th>0</th>\n",
       "      <td>10:00</td>\n",
       "      <td>Medico 0</td>\n",
       "      <td>Consulta</td>\n",
       "      <td>Paciente 0</td>\n",
       "      <td>50</td>\n",
       "    </tr>\n",
       "    <tr>\n",
       "      <th>1</th>\n",
       "      <td>10:30</td>\n",
       "      <td>Medico 1</td>\n",
       "      <td>Consulta</td>\n",
       "      <td>Paciente 1</td>\n",
       "      <td>40</td>\n",
       "    </tr>\n",
       "    <tr>\n",
       "      <th>2</th>\n",
       "      <td>10:30</td>\n",
       "      <td>Medico 2</td>\n",
       "      <td>Práctica</td>\n",
       "      <td>Paciente 2</td>\n",
       "      <td>20</td>\n",
       "    </tr>\n",
       "    <tr>\n",
       "      <th>3</th>\n",
       "      <td>11:00</td>\n",
       "      <td>Medico 1</td>\n",
       "      <td>Consulta</td>\n",
       "      <td>Paciente 3</td>\n",
       "      <td>30</td>\n",
       "    </tr>\n",
       "  </tbody>\n",
       "</table>\n",
       "</div>"
      ],
      "text/plain": [
       "    Hora   Recurso TipoDeTurno    Paciente Edad\n",
       "0  10:00  Medico 0    Consulta  Paciente 0   50\n",
       "1  10:30  Medico 1    Consulta  Paciente 1   40\n",
       "2  10:30  Medico 2    Práctica  Paciente 2   20\n",
       "3  11:00  Medico 1    Consulta  Paciente 3   30"
      ]
     },
     "execution_count": 5,
     "metadata": {},
     "output_type": "execute_result"
    }
   ],
   "source": [
    "df1"
   ]
  },
  {
   "cell_type": "code",
   "execution_count": 6,
   "metadata": {},
   "outputs": [
    {
     "data": {
      "text/html": [
       "<div>\n",
       "<style scoped>\n",
       "    .dataframe tbody tr th:only-of-type {\n",
       "        vertical-align: middle;\n",
       "    }\n",
       "\n",
       "    .dataframe tbody tr th {\n",
       "        vertical-align: top;\n",
       "    }\n",
       "\n",
       "    .dataframe thead th {\n",
       "        text-align: right;\n",
       "    }\n",
       "</style>\n",
       "<table border=\"1\" class=\"dataframe\">\n",
       "  <thead>\n",
       "    <tr style=\"text-align: right;\">\n",
       "      <th></th>\n",
       "      <th>Hora</th>\n",
       "      <th>Recurso</th>\n",
       "      <th>Sobreturno</th>\n",
       "    </tr>\n",
       "  </thead>\n",
       "  <tbody>\n",
       "    <tr>\n",
       "      <th>0</th>\n",
       "      <td>10:30</td>\n",
       "      <td>Medico 1</td>\n",
       "      <td>No</td>\n",
       "    </tr>\n",
       "    <tr>\n",
       "      <th>1</th>\n",
       "      <td>10:30</td>\n",
       "      <td>Medico 2</td>\n",
       "      <td>Si</td>\n",
       "    </tr>\n",
       "    <tr>\n",
       "      <th>2</th>\n",
       "      <td>11:00</td>\n",
       "      <td>Medico 1</td>\n",
       "      <td>No</td>\n",
       "    </tr>\n",
       "    <tr>\n",
       "      <th>3</th>\n",
       "      <td>12:00</td>\n",
       "      <td>Medico 3</td>\n",
       "      <td>No</td>\n",
       "    </tr>\n",
       "  </tbody>\n",
       "</table>\n",
       "</div>"
      ],
      "text/plain": [
       "    Hora   Recurso Sobreturno\n",
       "0  10:30  Medico 1         No\n",
       "1  10:30  Medico 2         Si\n",
       "2  11:00  Medico 1         No\n",
       "3  12:00  Medico 3         No"
      ]
     },
     "execution_count": 6,
     "metadata": {},
     "output_type": "execute_result"
    }
   ],
   "source": [
    "df2"
   ]
  },
  {
   "cell_type": "markdown",
   "metadata": {},
   "source": [
    "Podemos ver que ninguno de los dos datasets está completo en cuanto a registros. En el primero, falta el turno de las 12:00, mientras que en el segundo falta el de las 10:00. Ahora unimos los dos dataframes, manteniendo sólo los registros que tengan información en ambos. Para ello, indicamos cuáles son las columnas que deben coincidir (en este caso, Hora y Recurso)"
   ]
  },
  {
   "cell_type": "code",
   "execution_count": 7,
   "metadata": {},
   "outputs": [
    {
     "data": {
      "text/html": [
       "<div>\n",
       "<style scoped>\n",
       "    .dataframe tbody tr th:only-of-type {\n",
       "        vertical-align: middle;\n",
       "    }\n",
       "\n",
       "    .dataframe tbody tr th {\n",
       "        vertical-align: top;\n",
       "    }\n",
       "\n",
       "    .dataframe thead th {\n",
       "        text-align: right;\n",
       "    }\n",
       "</style>\n",
       "<table border=\"1\" class=\"dataframe\">\n",
       "  <thead>\n",
       "    <tr style=\"text-align: right;\">\n",
       "      <th></th>\n",
       "      <th>Hora</th>\n",
       "      <th>Recurso</th>\n",
       "      <th>TipoDeTurno</th>\n",
       "      <th>Paciente</th>\n",
       "      <th>Edad</th>\n",
       "      <th>Sobreturno</th>\n",
       "    </tr>\n",
       "  </thead>\n",
       "  <tbody>\n",
       "    <tr>\n",
       "      <th>0</th>\n",
       "      <td>10:30</td>\n",
       "      <td>Medico 1</td>\n",
       "      <td>Consulta</td>\n",
       "      <td>Paciente 1</td>\n",
       "      <td>40</td>\n",
       "      <td>No</td>\n",
       "    </tr>\n",
       "    <tr>\n",
       "      <th>1</th>\n",
       "      <td>10:30</td>\n",
       "      <td>Medico 2</td>\n",
       "      <td>Práctica</td>\n",
       "      <td>Paciente 2</td>\n",
       "      <td>20</td>\n",
       "      <td>Si</td>\n",
       "    </tr>\n",
       "    <tr>\n",
       "      <th>2</th>\n",
       "      <td>11:00</td>\n",
       "      <td>Medico 1</td>\n",
       "      <td>Consulta</td>\n",
       "      <td>Paciente 3</td>\n",
       "      <td>30</td>\n",
       "      <td>No</td>\n",
       "    </tr>\n",
       "  </tbody>\n",
       "</table>\n",
       "</div>"
      ],
      "text/plain": [
       "    Hora   Recurso TipoDeTurno    Paciente Edad Sobreturno\n",
       "0  10:30  Medico 1    Consulta  Paciente 1   40         No\n",
       "1  10:30  Medico 2    Práctica  Paciente 2   20         Si\n",
       "2  11:00  Medico 1    Consulta  Paciente 3   30         No"
      ]
     },
     "execution_count": 7,
     "metadata": {},
     "output_type": "execute_result"
    }
   ],
   "source": [
    "cols = ['Hora', 'Recurso']\n",
    "df1.merge(df2, on=cols)"
   ]
  },
  {
   "cell_type": "code",
   "execution_count": null,
   "metadata": {},
   "outputs": [],
   "source": []
  }
 ],
 "metadata": {
  "kernelspec": {
   "display_name": "Python [conda env:ausentismo] *",
   "language": "python",
   "name": "conda-env-ausentismo-py"
  },
  "language_info": {
   "codemirror_mode": {
    "name": "ipython",
    "version": 3
   },
   "file_extension": ".py",
   "mimetype": "text/x-python",
   "name": "python",
   "nbconvert_exporter": "python",
   "pygments_lexer": "ipython3",
   "version": "3.7.7"
  }
 },
 "nbformat": 4,
 "nbformat_minor": 4
}
