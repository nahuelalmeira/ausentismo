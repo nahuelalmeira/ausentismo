{
 "cells": [
  {
   "cell_type": "markdown",
   "metadata": {},
   "source": [
    "# **Análisis y Visualización de Datos**\n",
    "\n",
    "## **Actividades**\n",
    "\n",
    "#### **Análisis descriptivo**\n",
    "\n",
    "* Transformar cada campo de acuerdo con su tipo de variable (entero, fecha, string, etc).\n",
    "\n",
    "* Visualizar la distribución de datos de cada campo utilizando gráficos que consideren adecuados. \n",
    "\n",
    "#### **Análisis estadístico**\n",
    "\n",
    "* Caracterizar a los pacientes de la institución en términos de edad, sexo y prestador. Para el caso de la edad, determinar si los datos siguen alguna alguna distribución conocida. Para el sexo, determinar si hay una diferencia significativa entre hombres y mujeres.\n",
    "\n",
    "* Determinar la cantidad de turnos asignados por pacientes, y la cantidad de ausencias.\n",
    "\n",
    "* **Observación:** El campo \"Paciente\" corresponde al nombre y apellido del paciente, por lo que no contamos con una identificación unívoca de cada persona, dado que los nombres se pueden repetir. ¿Es esto realmente un problema? ¿Se puede resolver?\n",
    "\n",
    "* Elegir (al menos) tres variables, las cuales crean que pueden estar correlacionadas con la tasa de ausentismo. Para cada una de ellas calcular la probabilidad de que un turno esté ausente, condicionada a esa variable. \n",
    "\n",
    "* En el ámbito de la medicina es común ver que se utilizan descriptores estadísticos particulares. Uno de ellos es el Odds Ratio, el cual mide las chances de que los valores de dos variables sean observados en conjunto [1]. Para cada variable, calcular los Odds Ratio (OR) con respecto a la variable objetivo (austentismo), y determinar su intervalo de confianza utilizando el método que consideren adecuado.\n",
    "\n",
    "* Comparar los resultdos de los dos puntos anteriores. Si existen diferencias, discutir cuáles son y a qué se deben.\n",
    "\n",
    "#### **Cantidad de turnos en el tiempo:**\n",
    "\n",
    "* ¿Cuáles son los horarios más demandados? ¿Existe una hora pico?\n",
    "\n",
    "* ¿Qué días de la semana se dan más turnos? ¿Qué días presentan mayor ausentismo?\n",
    "\n",
    "* ¿Cómo evoluciona la cantidad de turnos y la cantidad de ausencias a lo largo del año? ¿Existe alguna tendencia?\n",
    "\n",
    "#### **Opcional**\n",
    "\n",
    "* Realizar un gráfico Ranking-Frecuencia [2] para la cantidad de turnos por paciente. ¿Se cumple la ley de Zipf? Realizar el mismo análisis, pero separando turnos atendidos y turnos ausentes.\n",
    "\n",
    "## **Entrega**\n",
    "\n",
    "**Formato de entrega:** Deberán entregar el análisis realizado, junto con los códigos con los que hicieron el análisis. Pueden optar por un único Notebook que alterne celdas de código con una descripción detallada, o bien, un Notebook más centrado en los códigos, junto con una presentación que detalle el análisis.\n",
    "\n",
    "**Fecha de entrega:** 22/6\n",
    "\n",
    "## **Referencias:**\n",
    "\n",
    "* [1] Explicación de Odds Ratio: https://www.youtube.com/watch?v=8nm0G-1uJzA\n",
    "* [2] Rank-frequency plot: https://en.wikipedia.org/wiki/Rank-size_distribution#:~:text=Rank%2Dsize%20distribution%20is%20the,in%20decreasing%20order%20of%20size.&text=This%20is%20also%20known%20as,city%20size%20or%20word%20frequency.\n",
    "\n",
    "\n",
    "\n",
    "\n"
   ]
  },
  {
   "cell_type": "markdown",
   "metadata": {},
   "source": [
    "Importamos librerías y configuración general"
   ]
  },
  {
   "cell_type": "code",
   "execution_count": 1,
   "metadata": {},
   "outputs": [],
   "source": [
    "import os\n",
    "import pandas as pd\n",
    "import numpy as np\n",
    "import matplotlib.pyplot as plt\n",
    "import seaborn as sns\n",
    "\n",
    "%matplotlib inline\n",
    "\n",
    "pd.options.display.max_columns = 30\n",
    "pd.options.display.max_rows = 50"
   ]
  },
  {
   "cell_type": "markdown",
   "metadata": {},
   "source": [
    "Leemos el dataset"
   ]
  },
  {
   "cell_type": "code",
   "execution_count": 2,
   "metadata": {},
   "outputs": [
    {
     "name": "stdout",
     "output_type": "stream",
     "text": [
      "(1194014, 13)\n"
     ]
    },
    {
     "data": {
      "text/html": [
       "<div>\n",
       "<style scoped>\n",
       "    .dataframe tbody tr th:only-of-type {\n",
       "        vertical-align: middle;\n",
       "    }\n",
       "\n",
       "    .dataframe tbody tr th {\n",
       "        vertical-align: top;\n",
       "    }\n",
       "\n",
       "    .dataframe thead th {\n",
       "        text-align: right;\n",
       "    }\n",
       "</style>\n",
       "<table border=\"1\" class=\"dataframe\">\n",
       "  <thead>\n",
       "    <tr style=\"text-align: right;\">\n",
       "      <th></th>\n",
       "      <th>CentroDeAtencion</th>\n",
       "      <th>Prestador</th>\n",
       "      <th>Recurso</th>\n",
       "      <th>Servicio</th>\n",
       "      <th>FechaDelTurno</th>\n",
       "      <th>EstadoDelTurno</th>\n",
       "      <th>Paciente</th>\n",
       "      <th>Sexo</th>\n",
       "      <th>Edad</th>\n",
       "      <th>PrestacionAsignada</th>\n",
       "      <th>NombreDelCanal</th>\n",
       "      <th>EsSobreTurno</th>\n",
       "      <th>TipoDeTurnoAsignado</th>\n",
       "    </tr>\n",
       "  </thead>\n",
       "  <tbody>\n",
       "    <tr>\n",
       "      <th>1194009</th>\n",
       "      <td>2</td>\n",
       "      <td>-</td>\n",
       "      <td>fa089caaca143ad1ff284640fb4cd2d7</td>\n",
       "      <td>RESONANCIA</td>\n",
       "      <td>2019-12-30 23:30:00</td>\n",
       "      <td>Libre</td>\n",
       "      <td>NaN</td>\n",
       "      <td></td>\n",
       "      <td>0</td>\n",
       "      <td>NaN</td>\n",
       "      <td>NaN</td>\n",
       "      <td>NO</td>\n",
       "      <td>NaN</td>\n",
       "    </tr>\n",
       "    <tr>\n",
       "      <th>1194010</th>\n",
       "      <td>1</td>\n",
       "      <td>OSDE</td>\n",
       "      <td>cba3f4d0f0775d3211c12cbca0ab3781</td>\n",
       "      <td>ECOGRAFIA</td>\n",
       "      <td>2019-12-31 09:24:00</td>\n",
       "      <td>Atendido</td>\n",
       "      <td>15a7d517fa140ac76f9a7a79de343d81</td>\n",
       "      <td>M</td>\n",
       "      <td>44</td>\n",
       "      <td>ECOGRAFIA COMPLETA DE ABDOMEN</td>\n",
       "      <td>NaN</td>\n",
       "      <td>SI</td>\n",
       "      <td>Práctica</td>\n",
       "    </tr>\n",
       "    <tr>\n",
       "      <th>1194011</th>\n",
       "      <td>1</td>\n",
       "      <td>OMINT S. A. DE SERVICIOS</td>\n",
       "      <td>cba3f4d0f0775d3211c12cbca0ab3781</td>\n",
       "      <td>ECOGRAFIA</td>\n",
       "      <td>2019-12-31 09:27:00</td>\n",
       "      <td>Atendido</td>\n",
       "      <td>2bd3a6fd81b29758aa12a13d210e6fdc</td>\n",
       "      <td>M</td>\n",
       "      <td>53</td>\n",
       "      <td>ECOGRAFIA DE PARTES BLANDAS</td>\n",
       "      <td>NaN</td>\n",
       "      <td>SI</td>\n",
       "      <td>Práctica</td>\n",
       "    </tr>\n",
       "    <tr>\n",
       "      <th>1194012</th>\n",
       "      <td>1</td>\n",
       "      <td>SANCOR</td>\n",
       "      <td>cba3f4d0f0775d3211c12cbca0ab3781</td>\n",
       "      <td>ECOGRAFIA</td>\n",
       "      <td>2019-12-31 11:29:00</td>\n",
       "      <td>Atendido</td>\n",
       "      <td>d72ffdcc0121edd182da6a32578e4bb1</td>\n",
       "      <td>F</td>\n",
       "      <td>28</td>\n",
       "      <td>ECOGRAFIA TRANSVAGINAL</td>\n",
       "      <td>NaN</td>\n",
       "      <td>SI</td>\n",
       "      <td>Práctica</td>\n",
       "    </tr>\n",
       "    <tr>\n",
       "      <th>1194013</th>\n",
       "      <td>1</td>\n",
       "      <td>MEDIFE ASOCIACIÓN CIVIL</td>\n",
       "      <td>a2073c1d145a1b5fd133f927fbbd7913</td>\n",
       "      <td>RADIOGRAFIA</td>\n",
       "      <td>2019-12-31 14:23:00</td>\n",
       "      <td>Atendido</td>\n",
       "      <td>71f43803027051f252e553746b44820b</td>\n",
       "      <td>M</td>\n",
       "      <td>2</td>\n",
       "      <td>Prestaciones multiples</td>\n",
       "      <td>NaN</td>\n",
       "      <td>SI</td>\n",
       "      <td>Práctica</td>\n",
       "    </tr>\n",
       "  </tbody>\n",
       "</table>\n",
       "</div>"
      ],
      "text/plain": [
       "         CentroDeAtencion                 Prestador  \\\n",
       "1194009                 2                         -   \n",
       "1194010                 1                     OSDE    \n",
       "1194011                 1  OMINT S. A. DE SERVICIOS   \n",
       "1194012                 1                   SANCOR    \n",
       "1194013                 1   MEDIFE ASOCIACIÓN CIVIL   \n",
       "\n",
       "                                  Recurso     Servicio        FechaDelTurno  \\\n",
       "1194009  fa089caaca143ad1ff284640fb4cd2d7   RESONANCIA  2019-12-30 23:30:00   \n",
       "1194010  cba3f4d0f0775d3211c12cbca0ab3781    ECOGRAFIA  2019-12-31 09:24:00   \n",
       "1194011  cba3f4d0f0775d3211c12cbca0ab3781    ECOGRAFIA  2019-12-31 09:27:00   \n",
       "1194012  cba3f4d0f0775d3211c12cbca0ab3781    ECOGRAFIA  2019-12-31 11:29:00   \n",
       "1194013  a2073c1d145a1b5fd133f927fbbd7913  RADIOGRAFIA  2019-12-31 14:23:00   \n",
       "\n",
       "        EstadoDelTurno                          Paciente Sexo  Edad  \\\n",
       "1194009          Libre                               NaN          0   \n",
       "1194010       Atendido  15a7d517fa140ac76f9a7a79de343d81    M    44   \n",
       "1194011       Atendido  2bd3a6fd81b29758aa12a13d210e6fdc    M    53   \n",
       "1194012       Atendido  d72ffdcc0121edd182da6a32578e4bb1    F    28   \n",
       "1194013       Atendido  71f43803027051f252e553746b44820b    M     2   \n",
       "\n",
       "                    PrestacionAsignada NombreDelCanal EsSobreTurno  \\\n",
       "1194009                            NaN            NaN           NO   \n",
       "1194010  ECOGRAFIA COMPLETA DE ABDOMEN            NaN           SI   \n",
       "1194011    ECOGRAFIA DE PARTES BLANDAS            NaN           SI   \n",
       "1194012         ECOGRAFIA TRANSVAGINAL            NaN           SI   \n",
       "1194013         Prestaciones multiples            NaN           SI   \n",
       "\n",
       "        TipoDeTurnoAsignado  \n",
       "1194009                 NaN  \n",
       "1194010            Práctica  \n",
       "1194011            Práctica  \n",
       "1194012            Práctica  \n",
       "1194013            Práctica  "
      ]
     },
     "execution_count": 2,
     "metadata": {},
     "output_type": "execute_result"
    }
   ],
   "source": [
    "data_dir = os.path.join('..', 'data')\n",
    "data_file_name = 'dataset_turnos_2019.csv'\n",
    "full_data_file_name = os.path.join(data_dir, data_file_name)\n",
    "df = pd.read_csv(full_data_file_name, sep=';')\n",
    "print(df.shape)\n",
    "df.tail()"
   ]
  },
  {
   "cell_type": "markdown",
   "metadata": {},
   "source": [
    "Analizamos los tipos de datos de cada campo inferidos por `pandas`"
   ]
  },
  {
   "cell_type": "code",
   "execution_count": 3,
   "metadata": {},
   "outputs": [
    {
     "data": {
      "text/html": [
       "<div>\n",
       "<style scoped>\n",
       "    .dataframe tbody tr th:only-of-type {\n",
       "        vertical-align: middle;\n",
       "    }\n",
       "\n",
       "    .dataframe tbody tr th {\n",
       "        vertical-align: top;\n",
       "    }\n",
       "\n",
       "    .dataframe thead th {\n",
       "        text-align: right;\n",
       "    }\n",
       "</style>\n",
       "<table border=\"1\" class=\"dataframe\">\n",
       "  <thead>\n",
       "    <tr style=\"text-align: right;\">\n",
       "      <th></th>\n",
       "      <th>Tipo</th>\n",
       "    </tr>\n",
       "    <tr>\n",
       "      <th>Campo</th>\n",
       "      <th></th>\n",
       "    </tr>\n",
       "  </thead>\n",
       "  <tbody>\n",
       "    <tr>\n",
       "      <th>CentroDeAtencion</th>\n",
       "      <td>int64</td>\n",
       "    </tr>\n",
       "    <tr>\n",
       "      <th>Prestador</th>\n",
       "      <td>object</td>\n",
       "    </tr>\n",
       "    <tr>\n",
       "      <th>Recurso</th>\n",
       "      <td>object</td>\n",
       "    </tr>\n",
       "    <tr>\n",
       "      <th>Servicio</th>\n",
       "      <td>object</td>\n",
       "    </tr>\n",
       "    <tr>\n",
       "      <th>FechaDelTurno</th>\n",
       "      <td>object</td>\n",
       "    </tr>\n",
       "    <tr>\n",
       "      <th>EstadoDelTurno</th>\n",
       "      <td>object</td>\n",
       "    </tr>\n",
       "    <tr>\n",
       "      <th>Paciente</th>\n",
       "      <td>object</td>\n",
       "    </tr>\n",
       "    <tr>\n",
       "      <th>Sexo</th>\n",
       "      <td>object</td>\n",
       "    </tr>\n",
       "    <tr>\n",
       "      <th>Edad</th>\n",
       "      <td>int64</td>\n",
       "    </tr>\n",
       "    <tr>\n",
       "      <th>PrestacionAsignada</th>\n",
       "      <td>object</td>\n",
       "    </tr>\n",
       "    <tr>\n",
       "      <th>NombreDelCanal</th>\n",
       "      <td>object</td>\n",
       "    </tr>\n",
       "    <tr>\n",
       "      <th>EsSobreTurno</th>\n",
       "      <td>object</td>\n",
       "    </tr>\n",
       "    <tr>\n",
       "      <th>TipoDeTurnoAsignado</th>\n",
       "      <td>object</td>\n",
       "    </tr>\n",
       "  </tbody>\n",
       "</table>\n",
       "</div>"
      ],
      "text/plain": [
       "                       Tipo\n",
       "Campo                      \n",
       "CentroDeAtencion      int64\n",
       "Prestador            object\n",
       "Recurso              object\n",
       "Servicio             object\n",
       "FechaDelTurno        object\n",
       "EstadoDelTurno       object\n",
       "Paciente             object\n",
       "Sexo                 object\n",
       "Edad                  int64\n",
       "PrestacionAsignada   object\n",
       "NombreDelCanal       object\n",
       "EsSobreTurno         object\n",
       "TipoDeTurnoAsignado  object"
      ]
     },
     "execution_count": 3,
     "metadata": {},
     "output_type": "execute_result"
    }
   ],
   "source": [
    "dtypes = pd.DataFrame(df.dtypes)\n",
    "dtypes.index.name = 'Campo'\n",
    "dtypes.rename(columns={0: 'Tipo'})"
   ]
  },
  {
   "cell_type": "markdown",
   "metadata": {},
   "source": [
    "Transformamos el campo **FechaDelTurno** en *datetime*"
   ]
  },
  {
   "cell_type": "code",
   "execution_count": 4,
   "metadata": {},
   "outputs": [],
   "source": [
    "df.FechaDelTurno = pd.to_datetime(df.FechaDelTurno)"
   ]
  },
  {
   "cell_type": "markdown",
   "metadata": {},
   "source": [
    "Buscamos posibles duplicados"
   ]
  },
  {
   "cell_type": "code",
   "execution_count": 5,
   "metadata": {},
   "outputs": [
    {
     "data": {
      "text/plain": [
       "0"
      ]
     },
     "execution_count": 5,
     "metadata": {},
     "output_type": "execute_result"
    }
   ],
   "source": [
    "df.duplicated().sum()"
   ]
  },
  {
   "cell_type": "markdown",
   "metadata": {},
   "source": [
    "Verificamos que los turnos estén ordenados por fecha"
   ]
  },
  {
   "cell_type": "code",
   "execution_count": 6,
   "metadata": {},
   "outputs": [
    {
     "data": {
      "text/plain": [
       "Timedelta('0 days 00:00:00')"
      ]
     },
     "execution_count": 6,
     "metadata": {},
     "output_type": "execute_result"
    }
   ],
   "source": [
    "## Este valor debería ser no negativo\n",
    "df.sort_values(by='FechaDelTurno').FechaDelTurno.diff().min()"
   ]
  },
  {
   "cell_type": "code",
   "execution_count": null,
   "metadata": {},
   "outputs": [],
   "source": []
  }
 ],
 "metadata": {
  "kernelspec": {
   "display_name": "Python [conda env:ausentismo] *",
   "language": "python",
   "name": "conda-env-ausentismo-py"
  },
  "language_info": {
   "codemirror_mode": {
    "name": "ipython",
    "version": 3
   },
   "file_extension": ".py",
   "mimetype": "text/x-python",
   "name": "python",
   "nbconvert_exporter": "python",
   "pygments_lexer": "ipython3",
   "version": "3.8.2"
  }
 },
 "nbformat": 4,
 "nbformat_minor": 4
}
